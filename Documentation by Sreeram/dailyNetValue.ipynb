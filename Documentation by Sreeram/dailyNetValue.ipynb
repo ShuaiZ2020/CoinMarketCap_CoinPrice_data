{
 "cells": [
  {
   "cell_type": "code",
   "execution_count": 12,
   "metadata": {},
   "outputs": [],
   "source": [
    "import pandas as pd"
   ]
  },
  {
   "cell_type": "code",
   "execution_count": 13,
   "metadata": {},
   "outputs": [],
   "source": [
    "import os"
   ]
  },
  {
   "cell_type": "code",
   "execution_count": 14,
   "metadata": {},
   "outputs": [],
   "source": [
    "list_of_files = os.listdir()\n"
   ]
  },
  {
   "cell_type": "code",
   "execution_count": 15,
   "metadata": {},
   "outputs": [],
   "source": [
    "list_of_excel_files = [e for e in  list_of_files if '.xlsx' in e and 'updated' not in e]\n"
   ]
  },
  {
   "cell_type": "code",
   "execution_count": 16,
   "metadata": {},
   "outputs": [
    {
     "data": {
      "text/plain": [
       "['31-Dec-21_scraped_data.xlsx',\n",
       " '05-Jan-22_scraped_data.xlsx',\n",
       " '01-Jan-22_scraped_data.xlsx',\n",
       " '04-Jan-22_scraped_data.xlsx',\n",
       " '06-Jan-22_scraped_data.xlsx',\n",
       " '02-Jan-22_scraped_data.xlsx',\n",
       " '03-Jan-22_scraped_data.xlsx',\n",
       " '07-Jan-22_scraped_data.xlsx']"
      ]
     },
     "execution_count": 16,
     "metadata": {},
     "output_type": "execute_result"
    }
   ],
   "source": [
    "list_of_excel_files"
   ]
  },
  {
   "cell_type": "code",
   "execution_count": 17,
   "metadata": {},
   "outputs": [
    {
     "data": {
      "text/plain": [
       "['31-Dec-21',\n",
       " '05-Jan-22',\n",
       " '01-Jan-22',\n",
       " '04-Jan-22',\n",
       " '06-Jan-22',\n",
       " '02-Jan-22',\n",
       " '03-Jan-22',\n",
       " '07-Jan-22']"
      ]
     },
     "execution_count": 17,
     "metadata": {},
     "output_type": "execute_result"
    }
   ],
   "source": [
    "dates = [e[:9] for e in list_of_excel_files]\n",
    "dates"
   ]
  },
  {
   "cell_type": "code",
   "execution_count": 18,
   "metadata": {},
   "outputs": [],
   "source": [
    "import datetime\n",
    "import numpy as np\n",
    "# create a dictionary of dates in the list of files\n",
    "formatted_dates_dict = {}\n",
    "for date in dates:\n",
    "    d = datetime.datetime.strptime(date,'%d-%b-%y').strftime('%Y-%m-%d')\n",
    "    formatted_dates_dict[d] = date\n",
    "\n",
    "   "
   ]
  },
  {
   "cell_type": "code",
   "execution_count": 19,
   "metadata": {},
   "outputs": [],
   "source": [
    "#Function to convert text to float as values are stored as text when scraping\n",
    "def convert_to_float(x):\n",
    "    try:\n",
    "        return float(x.replace(',',''))\n",
    "    except:\n",
    "        return np.nan"
   ]
  },
  {
   "cell_type": "code",
   "execution_count": 20,
   "metadata": {},
   "outputs": [],
   "source": [
    "a = []\n",
    "for i in range(6):\n",
    "    a.append(i+1)\n",
    "    a.append(i+3)\n",
    "    \n",
    "    \n",
    "\n",
    "sorted_dates = sorted(formatted_dates_dict.keys())\n",
    "#Go through each date\n",
    "for i,d in enumerate(sorted_dates):\n",
    "    if i < len(sorted_dates)-1:\n",
    "        yesterday = formatted_dates_dict[sorted_dates[i]]\n",
    "        today = formatted_dates_dict[sorted_dates[i+1]]\n",
    "        ydf = pd.read_excel(f'{yesterday}_scraped_data.xlsx')\n",
    "        tdf = pd.read_excel(f'{today}_scraped_data.xlsx')\n",
    "#ydf = yesterday df\n",
    "#tdf = today df        \n",
    "        \n",
    "        ydf.columns = [col+'_x' for col in ydf.columns]\n",
    "#added x to the column names of yeterday df's             \n",
    "        tdf_merged = tdf.merge(ydf,left_on='crypto',right_on = 'crypto_x')\n",
    "#merged on the crypto url which is unique            \n",
    "        \n",
    "\n",
    "        six_months  = []\n",
    "        for col in tdf.columns[1:19]:\n",
    "            #print(col)\n",
    "            month = col.split(\"_\")[0]\n",
    "            if month not in six_months:\n",
    "                six_months.append(month)\n",
    "\n",
    "#performing the statistics\n",
    "        for month in six_months:\n",
    "            try:\n",
    "                tdf_merged[f'{month}_votes'] = tdf_merged[f'{month}_votes'].apply(lambda x: convert_to_float(x))\n",
    "                tdf_merged[f'{month}_mean'] = tdf_merged[f'{month}_mean'].apply(lambda x: convert_to_float(x))\n",
    "                tdf_merged[f'{month}_votes_x'] = tdf_merged[f'{month}_votes_x'].apply(lambda x: convert_to_float(x))\n",
    "                tdf_merged[f'{month}_mean_x'] = tdf_merged[f'{month}_mean_x'].apply(lambda x: convert_to_float(x))    \n",
    "\n",
    "\n",
    "                tdf_merged[f'{month}_newVotes_today'] =   tdf_merged[f'{month}_votes'] - tdf_merged[f'{month}_votes_x']\n",
    "                tdf_merged[f'{month}_dailyNetValue'] =   ((tdf_merged[f'{month}_votes'] * tdf_merged[f'{month}_mean']) - (tdf_merged[f'{month}_mean_x'] * tdf_merged[f'{month}_votes_x']))/(tdf_merged[f'{month}_votes'] - tdf_merged[f'{month}_votes_x'])\n",
    "\n",
    "            except:\n",
    "                tdf_merged[f'{month}_newVotes_today'] =   \"There are not enough estimates to calculate the stats\"\n",
    "                tdf_merged[f'{month}_dailyNetValue'] =   \"There are not enough estimates to calculate the stats\"\n",
    "                pass\n",
    "                \n",
    "        for col in tdf_merged:\n",
    "            if col.split(\"_\")[-1]=='x':\n",
    "                tdf_merged.drop(columns = col,inplace=True)\n",
    "                \n",
    "        tdf_merged.to_excel(f\"{today}_updated.xlsx\",index=False)\n",
    "        \n",
    "    "
   ]
  },
  {
   "cell_type": "code",
   "execution_count": null,
   "metadata": {},
   "outputs": [],
   "source": []
  },
  {
   "cell_type": "code",
   "execution_count": null,
   "metadata": {},
   "outputs": [],
   "source": []
  },
  {
   "cell_type": "code",
   "execution_count": null,
   "metadata": {},
   "outputs": [],
   "source": []
  }
 ],
 "metadata": {
  "kernelspec": {
   "display_name": "Python 3",
   "language": "python",
   "name": "python3"
  },
  "language_info": {
   "codemirror_mode": {
    "name": "ipython",
    "version": 3
   },
   "file_extension": ".py",
   "mimetype": "text/x-python",
   "name": "python",
   "nbconvert_exporter": "python",
   "pygments_lexer": "ipython3",
   "version": "3.8.8"
  }
 },
 "nbformat": 4,
 "nbformat_minor": 4
}
